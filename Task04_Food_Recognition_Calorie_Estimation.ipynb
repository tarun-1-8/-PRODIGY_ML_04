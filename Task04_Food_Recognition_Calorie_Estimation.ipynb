# Task 04: Food Item Recognition & Calorie Estimation using CNN

# 📦 Import Libraries
import os
import random
import numpy as np
import pandas as pd
import matplotlib.pyplot as plt
import seaborn as sns
import tensorflow as tf
from tensorflow.keras.preprocessing.image import ImageDataGenerator
from tensorflow.keras.models import Sequential
from tensorflow.keras.layers import Conv2D, MaxPooling2D, Flatten, Dense, Dropout
from sklearn.metrics import confusion_matrix, classification_report

# 📁 Define Paths and Parameters
# Change this to your dataset path
data_dir = "path/to/food-101/images"
img_size = 128
batch_size = 32
epochs = 15

# 🔢 Randomly Select 10 Classes
all_classes = sorted(os.listdir(data_dir))
selected_classes = random.sample(all_classes, 10)
print("Selected Classes:", selected_classes)

# 🛠️ Custom Directory Filter
def filter_classes(data_dir, selected_classes):
    filtered_path = "filtered_data"
    if not os.path.exists(filtered_path):
        os.makedirs(filtered_path)
        for cls in selected_classes:
            os.makedirs(os.path.join(filtered_path, cls))
            for img_file in os.listdir(os.path.join(data_dir, cls))[:200]:
                src = os.path.join(data_dir, cls, img_file)
                dst = os.path.join(filtered_path, cls, img_file)
                os.link(src, dst)
    return filtered_path

filtered_dir = filter_classes(data_dir, selected_classes)

# 📊 Data Preprocessing
train_val_gen = ImageDataGenerator(rescale=1./255, validation_split=0.2)
train_data = train_val_gen.flow_from_directory(
    filtered_dir,
    target_size=(img_size, img_size),
    batch_size=batch_size,
    class_mode='categorical',
    subset='training'
)
val_data = train_val_gen.flow_from_directory(
    filtered_dir,
    target_size=(img_size, img_size),
    batch_size=batch_size,
    class_mode='categorical',
    subset='validation'
)

# 🧠 Build CNN Model
model = Sequential([
    Conv2D(32, (3,3), activation='relu', input_shape=(img_size, img_size, 3)),
    MaxPooling2D(2,2),
    Conv2D(64, (3,3), activation='relu'),
    MaxPooling2D(2,2),
    Flatten(),
    Dense(128, activation='relu'),
    Dropout(0.5),
    Dense(10, activation='softmax')
])

model.compile(optimizer='adam', loss='categorical_crossentropy', metrics=['accuracy'])
model.summary()

# 📈 Train the Model
history = model.fit(train_data, validation_data=val_data, epochs=epochs)

# 📊 Plot Accuracy and Loss
plt.figure(figsize=(12, 4))
plt.subplot(1, 2, 1)
plt.plot(history.history['accuracy'], label='Train Accuracy')
plt.plot(history.history['val_accuracy'], label='Val Accuracy')
plt.legend()
plt.title("Model Accuracy")

plt.subplot(1, 2, 2)
plt.plot(history.history['loss'], label='Train Loss')
plt.plot(history.history['val_loss'], label='Val Loss')
plt.legend()
plt.title("Model Loss")
plt.savefig("accuracy_loss_plot.png")
plt.show()

# 🔍 Predict and Display Sample Images
class_labels = list(train_data.class_indices.keys())
sample_images, sample_labels = next(val_data)
predictions = model.predict(sample_images)
predicted_classes = np.argmax(predictions, axis=1)

plt.figure(figsize=(12, 8))
for i in range(6):
    plt.subplot(2, 3, i+1)
    plt.imshow(sample_images[i])
    pred = class_labels[predicted_classes[i]]
    actual = class_labels[np.argmax(sample_labels[i])]
    plt.title(f"Pred: {pred}\nActual: {actual}")
    plt.axis('off')
plt.tight_layout()
plt.savefig("sample_predictions.png")
plt.show()

# 🔢 Calorie Mapping Example
calorie_map = {
    'pizza': 285,
    'samosa': 132,
    'burger': 295,
    'fried_rice': 250,
    'chocolate_cake': 360,
    'macaroni_and_cheese': 310,
    'donuts': 250,
    'ice_cream': 207,
    'miso_soup': 40,
    'apple_pie': 296
}

print("\nEstimated Calories:")
for i in range(6):
    food_name = class_labels[predicted_classes[i]]
    calories = calorie_map.get(food_name, "N/A")
    print(f"{food_name.title()} ≈ {calories} kcal")
